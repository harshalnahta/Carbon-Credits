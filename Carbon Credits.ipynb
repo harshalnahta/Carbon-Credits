{
 "cells": [
  {
   "cell_type": "markdown",
   "metadata": {},
   "source": [
    "## Carbon Credits"
   ]
  },
  {
   "cell_type": "code",
   "execution_count": 1,
   "metadata": {},
   "outputs": [
    {
     "data": {
      "text/html": [
       "<div>\n",
       "<style scoped>\n",
       "    .dataframe tbody tr th:only-of-type {\n",
       "        vertical-align: middle;\n",
       "    }\n",
       "\n",
       "    .dataframe tbody tr th {\n",
       "        vertical-align: top;\n",
       "    }\n",
       "\n",
       "    .dataframe thead th {\n",
       "        text-align: right;\n",
       "    }\n",
       "</style>\n",
       "<table border=\"1\" class=\"dataframe\">\n",
       "  <thead>\n",
       "    <tr style=\"text-align: right;\">\n",
       "      <th></th>\n",
       "      <th>Source</th>\n",
       "      <th>Unit</th>\n",
       "      <th>Emission Factor</th>\n",
       "      <th>Ref</th>\n",
       "      <th>Unnamed: 4</th>\n",
       "      <th>Unnamed: 5</th>\n",
       "      <th>Unnamed: 6</th>\n",
       "      <th>Unnamed: 7</th>\n",
       "      <th>Unnamed: 8</th>\n",
       "    </tr>\n",
       "  </thead>\n",
       "  <tbody>\n",
       "    <tr>\n",
       "      <th>0</th>\n",
       "      <td>Grid</td>\n",
       "      <td>tCO2e./kWh</td>\n",
       "      <td>0.000820</td>\n",
       "      <td>CEA</td>\n",
       "      <td>NaN</td>\n",
       "      <td>NaN</td>\n",
       "      <td>NaN</td>\n",
       "      <td>NaN</td>\n",
       "      <td>NaN</td>\n",
       "    </tr>\n",
       "    <tr>\n",
       "      <th>1</th>\n",
       "      <td>Petrol</td>\n",
       "      <td>tCO2e./L</td>\n",
       "      <td>0.002353</td>\n",
       "      <td>India GHG</td>\n",
       "      <td>NaN</td>\n",
       "      <td>NaN</td>\n",
       "      <td>NaN</td>\n",
       "      <td>NaN</td>\n",
       "      <td>NaN</td>\n",
       "    </tr>\n",
       "    <tr>\n",
       "      <th>2</th>\n",
       "      <td>Diesel</td>\n",
       "      <td>tCO2e./L</td>\n",
       "      <td>0.002640</td>\n",
       "      <td>India GHG</td>\n",
       "      <td>NaN</td>\n",
       "      <td>NaN</td>\n",
       "      <td>NaN</td>\n",
       "      <td>NaN</td>\n",
       "      <td>NaN</td>\n",
       "    </tr>\n",
       "    <tr>\n",
       "      <th>3</th>\n",
       "      <td>Kerosene</td>\n",
       "      <td>tCO2e./L</td>\n",
       "      <td>0.002670</td>\n",
       "      <td>EPA</td>\n",
       "      <td>NaN</td>\n",
       "      <td>NaN</td>\n",
       "      <td>NaN</td>\n",
       "      <td>NaN</td>\n",
       "      <td>NaN</td>\n",
       "    </tr>\n",
       "    <tr>\n",
       "      <th>4</th>\n",
       "      <td>Rail</td>\n",
       "      <td>tCO2e./Pax-Km</td>\n",
       "      <td>0.000008</td>\n",
       "      <td>India GHG</td>\n",
       "      <td>NaN</td>\n",
       "      <td>NaN</td>\n",
       "      <td>NaN</td>\n",
       "      <td>NaN</td>\n",
       "      <td>NaN</td>\n",
       "    </tr>\n",
       "  </tbody>\n",
       "</table>\n",
       "</div>"
      ],
      "text/plain": [
       "     Source           Unit  Emission Factor        Ref  Unnamed: 4  \\\n",
       "0      Grid     tCO2e./kWh         0.000820        CEA         NaN   \n",
       "1    Petrol       tCO2e./L         0.002353  India GHG         NaN   \n",
       "2    Diesel       tCO2e./L         0.002640  India GHG         NaN   \n",
       "3  Kerosene       tCO2e./L         0.002670        EPA         NaN   \n",
       "4      Rail  tCO2e./Pax-Km         0.000008  India GHG         NaN   \n",
       "\n",
       "   Unnamed: 5  Unnamed: 6  Unnamed: 7 Unnamed: 8  \n",
       "0         NaN         NaN         NaN        NaN  \n",
       "1         NaN         NaN         NaN        NaN  \n",
       "2         NaN         NaN         NaN        NaN  \n",
       "3         NaN         NaN         NaN        NaN  \n",
       "4         NaN         NaN         NaN        NaN  "
      ]
     },
     "execution_count": 1,
     "metadata": {},
     "output_type": "execute_result"
    }
   ],
   "source": [
    "import pandas as pd\n",
    "import numpy as np\n",
    "df = pd.read_csv('Emission Factor DB.csv')\n",
    "df.head()"
   ]
  },
  {
   "cell_type": "code",
   "execution_count": 2,
   "metadata": {},
   "outputs": [],
   "source": [
    "df = df.drop(['Unnamed: 4','Unnamed: 5','Unnamed: 6','Unnamed: 7','Unnamed: 8'],axis = 1)"
   ]
  },
  {
   "cell_type": "code",
   "execution_count": 3,
   "metadata": {},
   "outputs": [
    {
     "data": {
      "text/html": [
       "<div>\n",
       "<style scoped>\n",
       "    .dataframe tbody tr th:only-of-type {\n",
       "        vertical-align: middle;\n",
       "    }\n",
       "\n",
       "    .dataframe tbody tr th {\n",
       "        vertical-align: top;\n",
       "    }\n",
       "\n",
       "    .dataframe thead th {\n",
       "        text-align: right;\n",
       "    }\n",
       "</style>\n",
       "<table border=\"1\" class=\"dataframe\">\n",
       "  <thead>\n",
       "    <tr style=\"text-align: right;\">\n",
       "      <th></th>\n",
       "      <th>Source</th>\n",
       "      <th>Unit</th>\n",
       "      <th>Emission Factor</th>\n",
       "      <th>Ref</th>\n",
       "    </tr>\n",
       "  </thead>\n",
       "  <tbody>\n",
       "    <tr>\n",
       "      <th>0</th>\n",
       "      <td>Grid</td>\n",
       "      <td>tCO2e./kWh</td>\n",
       "      <td>0.000820</td>\n",
       "      <td>CEA</td>\n",
       "    </tr>\n",
       "    <tr>\n",
       "      <th>1</th>\n",
       "      <td>Petrol</td>\n",
       "      <td>tCO2e./L</td>\n",
       "      <td>0.002353</td>\n",
       "      <td>India GHG</td>\n",
       "    </tr>\n",
       "    <tr>\n",
       "      <th>2</th>\n",
       "      <td>Diesel</td>\n",
       "      <td>tCO2e./L</td>\n",
       "      <td>0.002640</td>\n",
       "      <td>India GHG</td>\n",
       "    </tr>\n",
       "    <tr>\n",
       "      <th>3</th>\n",
       "      <td>Kerosene</td>\n",
       "      <td>tCO2e./L</td>\n",
       "      <td>0.002670</td>\n",
       "      <td>EPA</td>\n",
       "    </tr>\n",
       "    <tr>\n",
       "      <th>4</th>\n",
       "      <td>Rail</td>\n",
       "      <td>tCO2e./Pax-Km</td>\n",
       "      <td>0.000008</td>\n",
       "      <td>India GHG</td>\n",
       "    </tr>\n",
       "    <tr>\n",
       "      <th>5</th>\n",
       "      <td>Air</td>\n",
       "      <td>tCO2e./Pax-Km</td>\n",
       "      <td>0.000121</td>\n",
       "      <td>India GHG</td>\n",
       "    </tr>\n",
       "    <tr>\n",
       "      <th>6</th>\n",
       "      <td>LPG</td>\n",
       "      <td>tCO2e./Kg</td>\n",
       "      <td>0.003010</td>\n",
       "      <td>EPA</td>\n",
       "    </tr>\n",
       "    <tr>\n",
       "      <th>7</th>\n",
       "      <td>Auto - Petrol</td>\n",
       "      <td>KgCO2/Km</td>\n",
       "      <td>0.113500</td>\n",
       "      <td>India GHG</td>\n",
       "    </tr>\n",
       "    <tr>\n",
       "      <th>8</th>\n",
       "      <td>Auto - Diesel</td>\n",
       "      <td>KgCO2/Km</td>\n",
       "      <td>0.132200</td>\n",
       "      <td>India GHG</td>\n",
       "    </tr>\n",
       "    <tr>\n",
       "      <th>9</th>\n",
       "      <td>Auto - CNG</td>\n",
       "      <td>KgCO2/Km</td>\n",
       "      <td>0.107680</td>\n",
       "      <td>India GHG</td>\n",
       "    </tr>\n",
       "    <tr>\n",
       "      <th>10</th>\n",
       "      <td>CNG</td>\n",
       "      <td>KgCO2/scf</td>\n",
       "      <td>0.053000</td>\n",
       "      <td>EPA</td>\n",
       "    </tr>\n",
       "    <tr>\n",
       "      <th>11</th>\n",
       "      <td>CNG</td>\n",
       "      <td>KgCO2/Kg</td>\n",
       "      <td>1.872130</td>\n",
       "      <td>EPA</td>\n",
       "    </tr>\n",
       "  </tbody>\n",
       "</table>\n",
       "</div>"
      ],
      "text/plain": [
       "           Source           Unit  Emission Factor        Ref\n",
       "0            Grid     tCO2e./kWh         0.000820        CEA\n",
       "1          Petrol       tCO2e./L         0.002353  India GHG\n",
       "2          Diesel       tCO2e./L         0.002640  India GHG\n",
       "3        Kerosene       tCO2e./L         0.002670        EPA\n",
       "4            Rail  tCO2e./Pax-Km         0.000008  India GHG\n",
       "5             Air  tCO2e./Pax-Km         0.000121  India GHG\n",
       "6             LPG      tCO2e./Kg         0.003010        EPA\n",
       "7   Auto - Petrol       KgCO2/Km         0.113500  India GHG\n",
       "8   Auto - Diesel       KgCO2/Km         0.132200  India GHG\n",
       "9      Auto - CNG       KgCO2/Km         0.107680  India GHG\n",
       "10            CNG      KgCO2/scf         0.053000        EPA\n",
       "11            CNG       KgCO2/Kg         1.872130        EPA"
      ]
     },
     "execution_count": 3,
     "metadata": {},
     "output_type": "execute_result"
    }
   ],
   "source": [
    "df"
   ]
  },
  {
   "cell_type": "code",
   "execution_count": 7,
   "metadata": {},
   "outputs": [
    {
     "name": "stdout",
     "output_type": "stream",
     "text": [
      "enter the amount of electricity consumed in a year in kWh : 125\n",
      "enter the amount of LPG consumed in a year in nos cylinder : 12\n",
      "enter the amount of Kerosene consumed in a year in Liter : 12\n"
     ]
    },
    {
     "data": {
      "text/html": [
       "<div>\n",
       "<style scoped>\n",
       "    .dataframe tbody tr th:only-of-type {\n",
       "        vertical-align: middle;\n",
       "    }\n",
       "\n",
       "    .dataframe tbody tr th {\n",
       "        vertical-align: top;\n",
       "    }\n",
       "\n",
       "    .dataframe thead th {\n",
       "        text-align: right;\n",
       "    }\n",
       "</style>\n",
       "<table border=\"1\" class=\"dataframe\">\n",
       "  <thead>\n",
       "    <tr style=\"text-align: right;\">\n",
       "      <th></th>\n",
       "      <th>Source</th>\n",
       "      <th>Values(tCO2e.)</th>\n",
       "    </tr>\n",
       "  </thead>\n",
       "  <tbody>\n",
       "    <tr>\n",
       "      <th>0</th>\n",
       "      <td>Grid</td>\n",
       "      <td>0.10250</td>\n",
       "    </tr>\n",
       "    <tr>\n",
       "      <th>1</th>\n",
       "      <td>Kerosene</td>\n",
       "      <td>0.03204</td>\n",
       "    </tr>\n",
       "    <tr>\n",
       "      <th>2</th>\n",
       "      <td>LPG</td>\n",
       "      <td>0.52374</td>\n",
       "    </tr>\n",
       "  </tbody>\n",
       "</table>\n",
       "</div>"
      ],
      "text/plain": [
       "     Source  Values(tCO2e.)\n",
       "0      Grid         0.10250\n",
       "1  Kerosene         0.03204\n",
       "2       LPG         0.52374"
      ]
     },
     "execution_count": 7,
     "metadata": {},
     "output_type": "execute_result"
    }
   ],
   "source": [
    "## HouseHold\n",
    "#Units consumed\n",
    "\n",
    "Electricity = float(input(\"enter the amount of electricity consumed in a year in kWh : \"))\n",
    "LPG = float(input(\"enter the amount of LPG consumed in a year in nos cylinder : \"))\n",
    "Kerosene = float(input(\"enter the amount of Kerosene consumed in a year in Liter : \"))\n",
    "household_emissions = ['Grid','Kerosene','LPG']\n",
    "H_emissions = []\n",
    "for row in df.index:\n",
    "    if df['Source'].iloc[row] == 'Grid':\n",
    "        H_emissions.append((Electricity*df['Emission Factor'].iloc[row],df['Source'].iloc[row]))\n",
    "    if df['Source'].iloc[row] == 'LPG':\n",
    "        H_emissions.append((14.5*LPG*df['Emission Factor'].iloc[row],df['Source'].iloc[row]))\n",
    "    if df['Source'].iloc[row] == 'Kerosene':\n",
    "        H_emissions.append((Kerosene*df['Emission Factor'].iloc[row],df['Source'].iloc[row]))\n",
    "Household_Emissions = pd.DataFrame(household_emissions, columns = ['Source'])\n",
    "values = []\n",
    "for row in Household_Emissions.index:\n",
    "    if H_emissions[row][1] == Household_Emissions['Source'].iloc[row]:\n",
    "        values.append(H_emissions[row][0])\n",
    "Household_Emissions['Values(tCO2e.)'] = values\n",
    "Household_Emissions"
   ]
  },
  {
   "cell_type": "code",
   "execution_count": 5,
   "metadata": {},
   "outputs": [
    {
     "data": {
      "text/html": [
       "<div>\n",
       "<style scoped>\n",
       "    .dataframe tbody tr th:only-of-type {\n",
       "        vertical-align: middle;\n",
       "    }\n",
       "\n",
       "    .dataframe tbody tr th {\n",
       "        vertical-align: top;\n",
       "    }\n",
       "\n",
       "    .dataframe thead th {\n",
       "        text-align: right;\n",
       "    }\n",
       "</style>\n",
       "<table border=\"1\" class=\"dataframe\">\n",
       "  <thead>\n",
       "    <tr style=\"text-align: right;\">\n",
       "      <th></th>\n",
       "      <th>Source</th>\n",
       "      <th>Values(tCO2e.)</th>\n",
       "      <th>Unit</th>\n",
       "      <th>Emission Factor</th>\n",
       "      <th>Ref</th>\n",
       "    </tr>\n",
       "  </thead>\n",
       "  <tbody>\n",
       "    <tr>\n",
       "      <th>0</th>\n",
       "      <td>Grid</td>\n",
       "      <td>0.10250</td>\n",
       "      <td>tCO2e./kWh</td>\n",
       "      <td>0.00082</td>\n",
       "      <td>CEA</td>\n",
       "    </tr>\n",
       "    <tr>\n",
       "      <th>1</th>\n",
       "      <td>Kerosene</td>\n",
       "      <td>0.05607</td>\n",
       "      <td>tCO2e./L</td>\n",
       "      <td>0.00267</td>\n",
       "      <td>EPA</td>\n",
       "    </tr>\n",
       "    <tr>\n",
       "      <th>2</th>\n",
       "      <td>LPG</td>\n",
       "      <td>0.52374</td>\n",
       "      <td>tCO2e./Kg</td>\n",
       "      <td>0.00301</td>\n",
       "      <td>EPA</td>\n",
       "    </tr>\n",
       "  </tbody>\n",
       "</table>\n",
       "</div>"
      ],
      "text/plain": [
       "     Source  Values(tCO2e.)        Unit  Emission Factor  Ref\n",
       "0      Grid         0.10250  tCO2e./kWh          0.00082  CEA\n",
       "1  Kerosene         0.05607    tCO2e./L          0.00267  EPA\n",
       "2       LPG         0.52374   tCO2e./Kg          0.00301  EPA"
      ]
     },
     "execution_count": 5,
     "metadata": {},
     "output_type": "execute_result"
    }
   ],
   "source": [
    "\n",
    "Household_Emissions.merge(df, how = 'inner')"
   ]
  },
  {
   "cell_type": "code",
   "execution_count": 6,
   "metadata": {},
   "outputs": [
    {
     "data": {
      "image/png": "[encoded data removed]",
      "text/plain": [
       "<Figure size 432x288 with 1 Axes>"
      ]
     },
     "metadata": {},
     "output_type": "display_data"
    }
   ],
   "source": [
    "import seaborn as sns\n",
    "import matplotlib.pyplot as plt\n",
    "def autopct_format(pct):\n",
    "    return f'{pct:.1f}%' if pct >= 2.5 else ''\n",
    "def pct(arr):\n",
    "    percent = []\n",
    "    for x in arr:\n",
    "        x = x*100/np.sum(val)\n",
    "        percent.append(x)\n",
    "    return percent\n",
    "val = np.array(Household_Emissions['Values(tCO2e.)'])\n",
    "val_per = pct(val)\n",
    "legend = []\n",
    "for row in Household_Emissions.index:\n",
    "    legend.append((Household_Emissions['Source'].iloc[row],round(val_per[row])))\n",
    "plt.pie(val_per,startangle = 90, autopct=autopct_format,pctdistance=1.25)\n",
    "plt.legend(legend,loc = 'best')\n",
    "plt.show()\n"
   ]
  },
  {
   "cell_type": "code",
   "execution_count": 56,
   "metadata": {},
   "outputs": [
    {
     "data": {
      "text/plain": [
       "[('Grid', 15.465579655036048),\n",
       " ('Kerosene', 4.873300276822925),\n",
       " ('LPG', 79.66112006814103)]"
      ]
     },
     "execution_count": 56,
     "metadata": {},
     "output_type": "execute_result"
    }
   ],
   "source": []
  },
  {
   "cell_type": "code",
   "execution_count": 41,
   "metadata": {},
   "outputs": [
    {
     "data": {
      "text/plain": [
       "0.6574599999999999"
      ]
     },
     "execution_count": 41,
     "metadata": {},
     "output_type": "execute_result"
    }
   ],
   "source": []
  },
  {
   "cell_type": "code",
   "execution_count": 39,
   "metadata": {},
   "outputs": [],
   "source": [
    "## Transportation\n",
    "#Units consumed\n"
   ]
  }
 ],
 "metadata": {
  "kernelspec": {
   "display_name": "Python 3",
   "language": "python",
   "name": "python3"
  },
  "language_info": {
   "codemirror_mode": {
    "name": "ipython",
    "version": 3
   },
   "file_extension": ".py",
   "mimetype": "text/x-python",
   "name": "python",
   "nbconvert_exporter": "python",
   "pygments_lexer": "ipython3",
   "version": "3.8.5"
  }
 },
 "nbformat": 4,
 "nbformat_minor": 4
}
